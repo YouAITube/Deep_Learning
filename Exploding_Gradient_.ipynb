{
  "nbformat": 4,
  "nbformat_minor": 0,
  "metadata": {
    "colab": {
      "provenance": []
    },
    "kernelspec": {
      "name": "python3",
      "display_name": "Python 3"
    },
    "language_info": {
      "name": "python"
    }
  },
  "cells": [
    {
      "cell_type": "markdown",
      "source": [
        "#What is Exploding Gradient?\n",
        "\n",
        "The exploding gradient problem is a challenge encountered during training deep neural networks. It occurs when the gradients of the network's loss function with respect to the weights (parameters) become excessively large.\n",
        "\n",
        "#Why Exploding Gradient Occurs?\n",
        "\n",
        "The issue of exploding gradients arises when, during backpropagation, the derivatives or slopes of the neural network's layers grow progressively larger as we move backward. This is essentially the opposite of the vanishing gradient problem.\n",
        "\n",
        "The root cause of this problem lies in the weights of the network, rather than the choice of activation function. High weight values lead to correspondingly high derivatives, causing significant deviations in new weight values from the previous ones. As a result, the gradient fails to converge and can lead to the network oscillating around local minima, making it challenging to reach the global minimum point.\n",
        "\n",
        "In summary, exploding gradients occur when weight values lead to excessively large derivatives, making convergence difficult and potentially preventing the neural network from effectively learning and optimizing its parameters."
      ],
      "metadata": {
        "id": "r203PXm7lxVk"
      }
    },
    {
      "cell_type": "markdown",
      "source": [
        "#How can we identify the problem?\n",
        "\n",
        "Identifying the presence of exploding gradients in deep neural network requires careful observation and analysis during training. Here are some key indicators:\n",
        "\n",
        "The loss function exhibits erratic behavior, oscillating wildly instead of steadily decreasing suggesting that the network weights are being updated excessively by large gradients, preventing smooth convergence.\n",
        "\n",
        "The training process encounters \"NaN\" (Not a Number) values in the loss function or other intermediate calculations..\n",
        "\n",
        "If network weights, during training exhibit significant and rapid increases in their values, it suggests the presence of exploding gradients.\n",
        "Tools like TensorBoard can be used to visualize the gradients flowing through the network.\n",
        "\n",
        "#How can we solve the issue?\n",
        "\n",
        "Gradient Clipping: It sets a maximum threshold for the magnitude of gradients during backpropagation. Any gradient exceeding the threshold is clipped to the threshold value, preventing it from growing unbounded.\n",
        "Batch Normalization: This technique normalizes the activations within each mini-batch, effectively scaling the gradients and reducing their variance. This helps prevent both vanishing and exploding gradients, improving stability and efficiency."
      ],
      "metadata": {
        "id": "yG3FQam5l6tW"
      }
    },
    {
      "cell_type": "code",
      "execution_count": 18,
      "metadata": {
        "id": "hMk9c0oyVACN"
      },
      "outputs": [],
      "source": [
        "from keras.datasets import fashion_mnist\n",
        "\n",
        "(X_train, y_train_labels), (X_test, y_test_labels) = fashion_mnist.load_data()"
      ]
    },
    {
      "cell_type": "code",
      "source": [
        "class_names = ['T-shirt/top',\n",
        "               'Trouser',\n",
        "               'Pullover',\n",
        "               'Dress',\n",
        "               'Coat',\n",
        "               'Sandal',\n",
        "               'Shirt',\n",
        "               'Sneaker',\n",
        "               'Bag',\n",
        "               'Ankle boot']"
      ],
      "metadata": {
        "id": "4n7Wp_GqVJKy"
      },
      "execution_count": 19,
      "outputs": []
    },
    {
      "cell_type": "code",
      "source": [
        "y_train_labels"
      ],
      "metadata": {
        "colab": {
          "base_uri": "https://localhost:8080/"
        },
        "id": "ggTHg-zoVMU4",
        "outputId": "fc05c902-7a71-4075-8c5f-707bddbc86e1"
      },
      "execution_count": 20,
      "outputs": [
        {
          "output_type": "execute_result",
          "data": {
            "text/plain": [
              "array([9, 0, 0, ..., 3, 0, 5], dtype=uint8)"
            ]
          },
          "metadata": {},
          "execution_count": 20
        }
      ]
    },
    {
      "cell_type": "code",
      "source": [
        "from tensorflow.keras.utils import to_categorical\n",
        "\n",
        "y_train = to_categorical(y_train_labels)\n",
        "y_test = to_categorical(y_test_labels)\n"
      ],
      "metadata": {
        "id": "6lZMSe8_VOq6"
      },
      "execution_count": 21,
      "outputs": []
    },
    {
      "cell_type": "code",
      "source": [
        "y_train"
      ],
      "metadata": {
        "colab": {
          "base_uri": "https://localhost:8080/"
        },
        "id": "-xr75DyoVQp2",
        "outputId": "63842433-8ef9-4940-8009-67590cd8c923"
      },
      "execution_count": 22,
      "outputs": [
        {
          "output_type": "execute_result",
          "data": {
            "text/plain": [
              "array([[0., 0., 0., ..., 0., 0., 1.],\n",
              "       [1., 0., 0., ..., 0., 0., 0.],\n",
              "       [1., 0., 0., ..., 0., 0., 0.],\n",
              "       ...,\n",
              "       [0., 0., 0., ..., 0., 0., 0.],\n",
              "       [1., 0., 0., ..., 0., 0., 0.],\n",
              "       [0., 0., 0., ..., 0., 0., 0.]])"
            ]
          },
          "metadata": {},
          "execution_count": 22
        }
      ]
    },
    {
      "cell_type": "code",
      "source": [
        "import matplotlib.pyplot as plt\n",
        "\n",
        "plt.figure()\n",
        "plt.imshow(X_train[0], cmap='gray')\n",
        "plt.colorbar()\n",
        "plt.show()"
      ],
      "metadata": {
        "colab": {
          "base_uri": "https://localhost:8080/",
          "height": 430
        },
        "id": "DOmWWI35VSq4",
        "outputId": "8d9a162e-0072-413a-9967-235a646be107"
      },
      "execution_count": 23,
      "outputs": [
        {
          "output_type": "display_data",
          "data": {
            "text/plain": [
              "<Figure size 640x480 with 2 Axes>"
            ],
            "image/png": "[encoded data removed]"
          },
          "metadata": {}
        }
      ]
    },
    {
      "cell_type": "code",
      "source": [
        "X_train = X_train / 255.0\n",
        "X_test = X_test / 255.0"
      ],
      "metadata": {
        "id": "llr92d9NVVnE"
      },
      "execution_count": 24,
      "outputs": []
    },
    {
      "cell_type": "code",
      "source": [
        "from keras.activations import sigmoid\n",
        "import tensorflow as tf\n",
        "from tensorflow.keras.models import Sequential\n",
        "from tensorflow.keras.layers import Dense, Flatten# Add this line\n",
        "tf.random.set_seed(9)\n",
        "\n",
        "\n",
        "from tensorflow.keras.losses import CategoricalCrossentropy\n",
        "from tensorflow.keras.optimizers import SGD  # Correct import for SGD\n",
        "\n",
        "from keras.activations import relu\n"
      ],
      "metadata": {
        "id": "npie_QEVWALW"
      },
      "execution_count": 25,
      "outputs": []
    },
    {
      "cell_type": "code",
      "source": [
        "model = Sequential([\n",
        "    Flatten(input_shape=(28, 28)),\n",
        "    Dense(128, activation='relu'),\n",
        "    Dense(64, activation='relu'),\n",
        "    Dense(32, activation='relu'),\n",
        "    Dense(16, activation='relu'),\n",
        "    Dense(10, activation='sigmoid')\n",
        "])\n",
        "\n",
        "\n",
        "model.summary()"
      ],
      "metadata": {
        "colab": {
          "base_uri": "https://localhost:8080/",
          "height": 395
        },
        "id": "ipKGs17TViaV",
        "outputId": "2d90aed1-f64c-473b-e393-dfdd3fb6b837"
      },
      "execution_count": 26,
      "outputs": [
        {
          "output_type": "stream",
          "name": "stderr",
          "text": [
            "/usr/local/lib/python3.11/dist-packages/keras/src/layers/reshaping/flatten.py:37: UserWarning: Do not pass an `input_shape`/`input_dim` argument to a layer. When using Sequential models, prefer using an `Input(shape)` object as the first layer in the model instead.\n",
            "  super().__init__(**kwargs)\n"
          ]
        },
        {
          "output_type": "display_data",
          "data": {
            "text/plain": [
              "\u001b[1mModel: \"sequential_1\"\u001b[0m\n"
            ],
            "text/html": [
              "<pre style=\"white-space:pre;overflow-x:auto;line-height:normal;font-family:Menlo,'DejaVu Sans Mono',consolas,'Courier New',monospace\"><span style=\"font-weight: bold\">Model: \"sequential_1\"</span>\n",
              "</pre>\n"
            ]
          },
          "metadata": {}
        },
        {
          "output_type": "display_data",
          "data": {
            "text/plain": [
              "┏━━━━━━━━━━━━━━━━━━━━━━━━━━━━━━━━━┳━━━━━━━━━━━━━━━━━━━━━━━━┳━━━━━━━━━━━━━━━┓\n",
              "┃\u001b[1m \u001b[0m\u001b[1mLayer (type)                   \u001b[0m\u001b[1m \u001b[0m┃\u001b[1m \u001b[0m\u001b[1mOutput Shape          \u001b[0m\u001b[1m \u001b[0m┃\u001b[1m \u001b[0m\u001b[1m      Param #\u001b[0m\u001b[1m \u001b[0m┃\n",
              "┡━━━━━━━━━━━━━━━━━━━━━━━━━━━━━━━━━╇━━━━━━━━━━━━━━━━━━━━━━━━╇━━━━━━━━━━━━━━━┩\n",
              "│ flatten_1 (\u001b[38;5;33mFlatten\u001b[0m)             │ (\u001b[38;5;45mNone\u001b[0m, \u001b[38;5;34m784\u001b[0m)            │             \u001b[38;5;34m0\u001b[0m │\n",
              "├─────────────────────────────────┼────────────────────────┼───────────────┤\n",
              "│ dense_5 (\u001b[38;5;33mDense\u001b[0m)                 │ (\u001b[38;5;45mNone\u001b[0m, \u001b[38;5;34m128\u001b[0m)            │       \u001b[38;5;34m100,480\u001b[0m │\n",
              "├─────────────────────────────────┼────────────────────────┼───────────────┤\n",
              "│ dense_6 (\u001b[38;5;33mDense\u001b[0m)                 │ (\u001b[38;5;45mNone\u001b[0m, \u001b[38;5;34m64\u001b[0m)             │         \u001b[38;5;34m8,256\u001b[0m │\n",
              "├─────────────────────────────────┼────────────────────────┼───────────────┤\n",
              "│ dense_7 (\u001b[38;5;33mDense\u001b[0m)                 │ (\u001b[38;5;45mNone\u001b[0m, \u001b[38;5;34m32\u001b[0m)             │         \u001b[38;5;34m2,080\u001b[0m │\n",
              "├─────────────────────────────────┼────────────────────────┼───────────────┤\n",
              "│ dense_8 (\u001b[38;5;33mDense\u001b[0m)                 │ (\u001b[38;5;45mNone\u001b[0m, \u001b[38;5;34m16\u001b[0m)             │           \u001b[38;5;34m528\u001b[0m │\n",
              "├─────────────────────────────────┼────────────────────────┼───────────────┤\n",
              "│ dense_9 (\u001b[38;5;33mDense\u001b[0m)                 │ (\u001b[38;5;45mNone\u001b[0m, \u001b[38;5;34m10\u001b[0m)             │           \u001b[38;5;34m170\u001b[0m │\n",
              "└─────────────────────────────────┴────────────────────────┴───────────────┘\n"
            ],
            "text/html": [
              "<pre style=\"white-space:pre;overflow-x:auto;line-height:normal;font-family:Menlo,'DejaVu Sans Mono',consolas,'Courier New',monospace\">┏━━━━━━━━━━━━━━━━━━━━━━━━━━━━━━━━━┳━━━━━━━━━━━━━━━━━━━━━━━━┳━━━━━━━━━━━━━━━┓\n",
              "┃<span style=\"font-weight: bold\"> Layer (type)                    </span>┃<span style=\"font-weight: bold\"> Output Shape           </span>┃<span style=\"font-weight: bold\">       Param # </span>┃\n",
              "┡━━━━━━━━━━━━━━━━━━━━━━━━━━━━━━━━━╇━━━━━━━━━━━━━━━━━━━━━━━━╇━━━━━━━━━━━━━━━┩\n",
              "│ flatten_1 (<span style=\"color: #0087ff; text-decoration-color: #0087ff\">Flatten</span>)             │ (<span style=\"color: #00d7ff; text-decoration-color: #00d7ff\">None</span>, <span style=\"color: #00af00; text-decoration-color: #00af00\">784</span>)            │             <span style=\"color: #00af00; text-decoration-color: #00af00\">0</span> │\n",
              "├─────────────────────────────────┼────────────────────────┼───────────────┤\n",
              "│ dense_5 (<span style=\"color: #0087ff; text-decoration-color: #0087ff\">Dense</span>)                 │ (<span style=\"color: #00d7ff; text-decoration-color: #00d7ff\">None</span>, <span style=\"color: #00af00; text-decoration-color: #00af00\">128</span>)            │       <span style=\"color: #00af00; text-decoration-color: #00af00\">100,480</span> │\n",
              "├─────────────────────────────────┼────────────────────────┼───────────────┤\n",
              "│ dense_6 (<span style=\"color: #0087ff; text-decoration-color: #0087ff\">Dense</span>)                 │ (<span style=\"color: #00d7ff; text-decoration-color: #00d7ff\">None</span>, <span style=\"color: #00af00; text-decoration-color: #00af00\">64</span>)             │         <span style=\"color: #00af00; text-decoration-color: #00af00\">8,256</span> │\n",
              "├─────────────────────────────────┼────────────────────────┼───────────────┤\n",
              "│ dense_7 (<span style=\"color: #0087ff; text-decoration-color: #0087ff\">Dense</span>)                 │ (<span style=\"color: #00d7ff; text-decoration-color: #00d7ff\">None</span>, <span style=\"color: #00af00; text-decoration-color: #00af00\">32</span>)             │         <span style=\"color: #00af00; text-decoration-color: #00af00\">2,080</span> │\n",
              "├─────────────────────────────────┼────────────────────────┼───────────────┤\n",
              "│ dense_8 (<span style=\"color: #0087ff; text-decoration-color: #0087ff\">Dense</span>)                 │ (<span style=\"color: #00d7ff; text-decoration-color: #00d7ff\">None</span>, <span style=\"color: #00af00; text-decoration-color: #00af00\">16</span>)             │           <span style=\"color: #00af00; text-decoration-color: #00af00\">528</span> │\n",
              "├─────────────────────────────────┼────────────────────────┼───────────────┤\n",
              "│ dense_9 (<span style=\"color: #0087ff; text-decoration-color: #0087ff\">Dense</span>)                 │ (<span style=\"color: #00d7ff; text-decoration-color: #00d7ff\">None</span>, <span style=\"color: #00af00; text-decoration-color: #00af00\">10</span>)             │           <span style=\"color: #00af00; text-decoration-color: #00af00\">170</span> │\n",
              "└─────────────────────────────────┴────────────────────────┴───────────────┘\n",
              "</pre>\n"
            ]
          },
          "metadata": {}
        },
        {
          "output_type": "display_data",
          "data": {
            "text/plain": [
              "\u001b[1m Total params: \u001b[0m\u001b[38;5;34m111,514\u001b[0m (435.60 KB)\n"
            ],
            "text/html": [
              "<pre style=\"white-space:pre;overflow-x:auto;line-height:normal;font-family:Menlo,'DejaVu Sans Mono',consolas,'Courier New',monospace\"><span style=\"font-weight: bold\"> Total params: </span><span style=\"color: #00af00; text-decoration-color: #00af00\">111,514</span> (435.60 KB)\n",
              "</pre>\n"
            ]
          },
          "metadata": {}
        },
        {
          "output_type": "display_data",
          "data": {
            "text/plain": [
              "\u001b[1m Trainable params: \u001b[0m\u001b[38;5;34m111,514\u001b[0m (435.60 KB)\n"
            ],
            "text/html": [
              "<pre style=\"white-space:pre;overflow-x:auto;line-height:normal;font-family:Menlo,'DejaVu Sans Mono',consolas,'Courier New',monospace\"><span style=\"font-weight: bold\"> Trainable params: </span><span style=\"color: #00af00; text-decoration-color: #00af00\">111,514</span> (435.60 KB)\n",
              "</pre>\n"
            ]
          },
          "metadata": {}
        },
        {
          "output_type": "display_data",
          "data": {
            "text/plain": [
              "\u001b[1m Non-trainable params: \u001b[0m\u001b[38;5;34m0\u001b[0m (0.00 B)\n"
            ],
            "text/html": [
              "<pre style=\"white-space:pre;overflow-x:auto;line-height:normal;font-family:Menlo,'DejaVu Sans Mono',consolas,'Courier New',monospace\"><span style=\"font-weight: bold\"> Non-trainable params: </span><span style=\"color: #00af00; text-decoration-color: #00af00\">0</span> (0.00 B)\n",
              "</pre>\n"
            ]
          },
          "metadata": {}
        }
      ]
    },
    {
      "cell_type": "code",
      "source": [
        "optimizer =SGD(learning_rate=0.01)\n",
        "loss_fn = CategoricalCrossentropy()"
      ],
      "metadata": {
        "id": "jJ0Kaqf8WaBn"
      },
      "execution_count": 27,
      "outputs": []
    },
    {
      "cell_type": "code",
      "source": [
        "batch_size = 64\n",
        "train_dataset = tf.data.Dataset.from_tensor_slices((X_train, y_train))\n",
        "train_dataset = train_dataset.shuffle(buffer_size=X_train.shape[0]).batch(batch_size)"
      ],
      "metadata": {
        "id": "FwKm6Q3kWjkM"
      },
      "execution_count": 28,
      "outputs": []
    },
    {
      "cell_type": "code",
      "source": [
        "import numpy as np\n",
        "np.random.seed(9)\n",
        "\n",
        "new_weights = []\n",
        "\n",
        "for weights in model.get_weights():\n",
        "    if len(weights.shape) == 2:\n",
        "        new_weights.append(np.random.randn(weights.shape[0], weights.shape[1]) * 100)\n",
        "    else:\n",
        "        new_weights.append(np.random.randn(weights.shape[0]) * 100)\n",
        "\n",
        "model.set_weights(new_weights)\n",
        "\n",
        "model.get_weights()[:2]"
      ],
      "metadata": {
        "colab": {
          "base_uri": "https://localhost:8080/"
        },
        "id": "qukM-N6rk3A8",
        "outputId": "26606a32-541b-4931-9583-6eec9fee7f32"
      },
      "execution_count": 29,
      "outputs": [
        {
          "output_type": "execute_result",
          "data": {
            "text/plain": [
              "[array([[ 1.10855468e-01, -2.89544067e+01, -1.11606628e+02, ...,\n",
              "          2.70807247e+01, -1.09553963e+02,  2.40134293e+02],\n",
              "        [-2.79909744e+01,  2.03080078e+02, -8.19394684e+00, ...,\n",
              "         -3.82227927e-01,  1.05748680e+02, -9.83664932e+01],\n",
              "        [ 1.08536072e+02,  3.65864944e+01, -1.09298759e+02, ...,\n",
              "         -5.81144371e+01,  4.14889984e+01,  1.60726120e+02],\n",
              "        ...,\n",
              "        [ 1.35224182e+02,  2.94914799e+01,  1.18652184e+02, ...,\n",
              "          4.81741476e+00, -2.53905319e+02, -4.74941177e+01],\n",
              "        [-3.37093697e+01,  1.03940331e+02,  1.14126289e+02, ...,\n",
              "          1.74861115e+02,  4.74479866e+00,  1.33079357e+01],\n",
              "        [ 2.64444885e+01, -1.50783691e+02,  1.20068794e+02, ...,\n",
              "          7.30409470e+01,  9.83183594e+01,  1.32491974e+02]], dtype=float32),\n",
              " array([ -81.39623  ,   17.539917 ,  -72.668785 ,    2.2356956,\n",
              "          33.181274 ,  119.915825 ,   89.62817  ,  -21.945011 ,\n",
              "        -127.10773  ,   84.82333  , -114.00925  , -107.28623  ,\n",
              "        -105.227394 ,   72.34629  , -185.23276  ,   75.82127  ,\n",
              "          84.89399  ,  -48.0772   ,   95.85509  ,   42.351986 ,\n",
              "         -55.54747  ,  -85.327446 ,   36.231747 , -111.04444  ,\n",
              "         142.21878  ,  -27.96712  ,  -82.693214 , -157.61082  ,\n",
              "          43.035976 ,  -10.153697 ,  -11.75323  , -123.57437  ,\n",
              "        -152.12593  ,   68.998146 ,  126.63506  ,   28.599375 ,\n",
              "          39.884834 ,  115.92708  ,  144.53403  ,   -3.449321 ,\n",
              "        -141.29587  ,  160.0608   ,  -24.593626 ,  -12.272469 ,\n",
              "         -28.378496 ,  -30.395138 ,  -32.246723 , -109.36284  ,\n",
              "         105.92969  ,   90.871284 ,   -8.158327 , -104.07955  ,\n",
              "           2.5509229,   58.863476 ,   23.961063 , -209.25856  ,\n",
              "         175.1751   ,  107.30941  ,  -36.855186 ,  -85.826775 ,\n",
              "         100.4044   , -213.92224  ,  -94.55485  ,   79.15706  ,\n",
              "        -150.8383   ,  186.42526  ,   60.645195 ,   11.612469 ,\n",
              "         -20.27751  ,  162.37465  ,   55.11471  , -136.64284  ,\n",
              "         -61.330055 ,   28.820726 ,  159.97343  ,  148.26462  ,\n",
              "         -29.312792 ,  127.24373  , -162.9382   ,    8.875424 ,\n",
              "        -105.87448  ,  -71.96845  , -152.99469  ,  -88.84712  ,\n",
              "          -6.833829 ,  115.30349  , -147.22337  ,   23.91302  ,\n",
              "        -163.3704   ,   26.936224 ,   52.587135 , -184.51111  ,\n",
              "          28.710106 ,   58.37481  ,   10.116421 ,  -53.908672 ,\n",
              "        -112.12747  , -127.8494   , -260.9589   ,  -86.06942  ,\n",
              "         -55.096497 ,  -78.455475 , -121.97097  ,   78.840065 ,\n",
              "         -61.227093 , -100.67971  ,  -21.41796  ,  -51.679893 ,\n",
              "         -57.308086 ,  -33.136093 ,  -64.72705  , -136.82013  ,\n",
              "        -114.87947  ,   70.16235  ,  -27.950813 , -139.28178  ,\n",
              "          53.165443 ,  -24.113924 ,  -44.250675 ,  -89.93796  ,\n",
              "         -21.553434 ,  -39.026154 ,   11.854126 ,  -87.78572  ,\n",
              "          78.29342  ,  137.9324   ,   36.78383  , -225.8375   ],\n",
              "       dtype=float32)]"
            ]
          },
          "metadata": {},
          "execution_count": 29
        }
      ]
    },
    {
      "cell_type": "code",
      "source": [
        "grad_log = []\n",
        "\n",
        "epochs = 2\n",
        "\n",
        "for epoch in range(epochs):\n",
        "    for step, (x_batch_train, y_batch_train) in enumerate(train_dataset):\n",
        "\n",
        "        with tf.GradientTape() as tape:\n",
        "            preds = model(x_batch_train)\n",
        "\n",
        "            loss_value = loss_fn(y_batch_train, preds)\n",
        "\n",
        "            grads = tape.gradient(loss_value, model.trainable_weights)\n",
        "            g_g = []\n",
        "\n",
        "            for g_s in grads:\n",
        "                if len(g_s.numpy().shape) == 2:\n",
        "                    g_g.append(g_s.numpy()[0, 0])\n",
        "\n",
        "        grad_log.append(g_g)\n",
        "\n",
        "        optimizer.apply_gradients(zip(grads, model.trainable_weights))\n",
        "\n",
        "        if step % 200 == 0:\n",
        "            print(f'Epoch {epoch + 1}/{epochs}', end='. ')\n",
        "            print(f'Step {step}. Train loss: {loss_value}')"
      ],
      "metadata": {
        "colab": {
          "base_uri": "https://localhost:8080/"
        },
        "id": "jplKUkw3WcrQ",
        "outputId": "8ec06f50-5444-4bc0-fb4b-0f3d044b5cd3"
      },
      "execution_count": 30,
      "outputs": [
        {
          "output_type": "stream",
          "name": "stdout",
          "text": [
            "Epoch 1/2. Step 0. Train loss: 59955839238144.0\n",
            "Epoch 1/2. Step 200. Train loss: nan\n",
            "Epoch 1/2. Step 400. Train loss: nan\n",
            "Epoch 1/2. Step 600. Train loss: nan\n",
            "Epoch 1/2. Step 800. Train loss: nan\n",
            "Epoch 2/2. Step 0. Train loss: nan\n",
            "Epoch 2/2. Step 200. Train loss: nan\n",
            "Epoch 2/2. Step 400. Train loss: nan\n",
            "Epoch 2/2. Step 600. Train loss: nan\n",
            "Epoch 2/2. Step 800. Train loss: nan\n"
          ]
        }
      ]
    },
    {
      "cell_type": "code",
      "source": [
        "model.get_weights()[:2]"
      ],
      "metadata": {
        "colab": {
          "base_uri": "https://localhost:8080/"
        },
        "id": "fxVq02HlXhii",
        "outputId": "3778cbe2-0168-4331-af3a-5bb19b02671f"
      },
      "execution_count": 31,
      "outputs": [
        {
          "output_type": "execute_result",
          "data": {
            "text/plain": [
              "[array([[nan, nan, nan, ..., nan, nan, nan],\n",
              "        [nan, nan, nan, ..., nan, nan, nan],\n",
              "        [nan, nan, nan, ..., nan, nan, nan],\n",
              "        ...,\n",
              "        [nan, nan, nan, ..., nan, nan, nan],\n",
              "        [nan, nan, nan, ..., nan, nan, nan],\n",
              "        [nan, nan, nan, ..., nan, nan, nan]], dtype=float32),\n",
              " array([nan, nan, nan, nan, nan, nan, nan, nan, nan, nan, nan, nan, nan,\n",
              "        nan, nan, nan, nan, nan, nan, nan, nan, nan, nan, nan, nan, nan,\n",
              "        nan, nan, nan, nan, nan, nan, nan, nan, nan, nan, nan, nan, nan,\n",
              "        nan, nan, nan, nan, nan, nan, nan, nan, nan, nan, nan, nan, nan,\n",
              "        nan, nan, nan, nan, nan, nan, nan, nan, nan, nan, nan, nan, nan,\n",
              "        nan, nan, nan, nan, nan, nan, nan, nan, nan, nan, nan, nan, nan,\n",
              "        nan, nan, nan, nan, nan, nan, nan, nan, nan, nan, nan, nan, nan,\n",
              "        nan, nan, nan, nan, nan, nan, nan, nan, nan, nan, nan, nan, nan,\n",
              "        nan, nan, nan, nan, nan, nan, nan, nan, nan, nan, nan, nan, nan,\n",
              "        nan, nan, nan, nan, nan, nan, nan, nan, nan, nan, nan],\n",
              "       dtype=float32)]"
            ]
          },
          "metadata": {},
          "execution_count": 31
        }
      ]
    },
    {
      "cell_type": "code",
      "source": [
        "import tensorflow as tf\n",
        "from tensorflow.keras import backend as K\n",
        "\n",
        "def my_relu(x):\n",
        "    return tf.keras.activations.relu(x, max_value=6)"
      ],
      "metadata": {
        "id": "vjwdmxNYlON2"
      },
      "execution_count": 32,
      "outputs": []
    },
    {
      "cell_type": "code",
      "source": [
        "model = Sequential([\n",
        "    Flatten(input_shape=(28, 28)),\n",
        "    Dense(128, activation=my_relu),\n",
        "    Dense(64, activation=my_relu),\n",
        "    Dense(32, activation=my_relu),\n",
        "    Dense(16, activation=my_relu),\n",
        "    Dense(10, activation='sigmoid')\n",
        "])\n",
        "\n",
        "\n",
        "model.summary()"
      ],
      "metadata": {
        "colab": {
          "base_uri": "https://localhost:8080/",
          "height": 340
        },
        "id": "3jqpBgxRlR2H",
        "outputId": "6c8fb5f1-f409-4588-b672-3bf5b754cedf"
      },
      "execution_count": 33,
      "outputs": [
        {
          "output_type": "display_data",
          "data": {
            "text/plain": [
              "\u001b[1mModel: \"sequential_2\"\u001b[0m\n"
            ],
            "text/html": [
              "<pre style=\"white-space:pre;overflow-x:auto;line-height:normal;font-family:Menlo,'DejaVu Sans Mono',consolas,'Courier New',monospace\"><span style=\"font-weight: bold\">Model: \"sequential_2\"</span>\n",
              "</pre>\n"
            ]
          },
          "metadata": {}
        },
        {
          "output_type": "display_data",
          "data": {
            "text/plain": [
              "┏━━━━━━━━━━━━━━━━━━━━━━━━━━━━━━━━━┳━━━━━━━━━━━━━━━━━━━━━━━━┳━━━━━━━━━━━━━━━┓\n",
              "┃\u001b[1m \u001b[0m\u001b[1mLayer (type)                   \u001b[0m\u001b[1m \u001b[0m┃\u001b[1m \u001b[0m\u001b[1mOutput Shape          \u001b[0m\u001b[1m \u001b[0m┃\u001b[1m \u001b[0m\u001b[1m      Param #\u001b[0m\u001b[1m \u001b[0m┃\n",
              "┡━━━━━━━━━━━━━━━━━━━━━━━━━━━━━━━━━╇━━━━━━━━━━━━━━━━━━━━━━━━╇━━━━━━━━━━━━━━━┩\n",
              "│ flatten_2 (\u001b[38;5;33mFlatten\u001b[0m)             │ (\u001b[38;5;45mNone\u001b[0m, \u001b[38;5;34m784\u001b[0m)            │             \u001b[38;5;34m0\u001b[0m │\n",
              "├─────────────────────────────────┼────────────────────────┼───────────────┤\n",
              "│ dense_10 (\u001b[38;5;33mDense\u001b[0m)                │ (\u001b[38;5;45mNone\u001b[0m, \u001b[38;5;34m128\u001b[0m)            │       \u001b[38;5;34m100,480\u001b[0m │\n",
              "├─────────────────────────────────┼────────────────────────┼───────────────┤\n",
              "│ dense_11 (\u001b[38;5;33mDense\u001b[0m)                │ (\u001b[38;5;45mNone\u001b[0m, \u001b[38;5;34m64\u001b[0m)             │         \u001b[38;5;34m8,256\u001b[0m │\n",
              "├─────────────────────────────────┼────────────────────────┼───────────────┤\n",
              "│ dense_12 (\u001b[38;5;33mDense\u001b[0m)                │ (\u001b[38;5;45mNone\u001b[0m, \u001b[38;5;34m32\u001b[0m)             │         \u001b[38;5;34m2,080\u001b[0m │\n",
              "├─────────────────────────────────┼────────────────────────┼───────────────┤\n",
              "│ dense_13 (\u001b[38;5;33mDense\u001b[0m)                │ (\u001b[38;5;45mNone\u001b[0m, \u001b[38;5;34m16\u001b[0m)             │           \u001b[38;5;34m528\u001b[0m │\n",
              "├─────────────────────────────────┼────────────────────────┼───────────────┤\n",
              "│ dense_14 (\u001b[38;5;33mDense\u001b[0m)                │ (\u001b[38;5;45mNone\u001b[0m, \u001b[38;5;34m10\u001b[0m)             │           \u001b[38;5;34m170\u001b[0m │\n",
              "└─────────────────────────────────┴────────────────────────┴───────────────┘\n"
            ],
            "text/html": [
              "<pre style=\"white-space:pre;overflow-x:auto;line-height:normal;font-family:Menlo,'DejaVu Sans Mono',consolas,'Courier New',monospace\">┏━━━━━━━━━━━━━━━━━━━━━━━━━━━━━━━━━┳━━━━━━━━━━━━━━━━━━━━━━━━┳━━━━━━━━━━━━━━━┓\n",
              "┃<span style=\"font-weight: bold\"> Layer (type)                    </span>┃<span style=\"font-weight: bold\"> Output Shape           </span>┃<span style=\"font-weight: bold\">       Param # </span>┃\n",
              "┡━━━━━━━━━━━━━━━━━━━━━━━━━━━━━━━━━╇━━━━━━━━━━━━━━━━━━━━━━━━╇━━━━━━━━━━━━━━━┩\n",
              "│ flatten_2 (<span style=\"color: #0087ff; text-decoration-color: #0087ff\">Flatten</span>)             │ (<span style=\"color: #00d7ff; text-decoration-color: #00d7ff\">None</span>, <span style=\"color: #00af00; text-decoration-color: #00af00\">784</span>)            │             <span style=\"color: #00af00; text-decoration-color: #00af00\">0</span> │\n",
              "├─────────────────────────────────┼────────────────────────┼───────────────┤\n",
              "│ dense_10 (<span style=\"color: #0087ff; text-decoration-color: #0087ff\">Dense</span>)                │ (<span style=\"color: #00d7ff; text-decoration-color: #00d7ff\">None</span>, <span style=\"color: #00af00; text-decoration-color: #00af00\">128</span>)            │       <span style=\"color: #00af00; text-decoration-color: #00af00\">100,480</span> │\n",
              "├─────────────────────────────────┼────────────────────────┼───────────────┤\n",
              "│ dense_11 (<span style=\"color: #0087ff; text-decoration-color: #0087ff\">Dense</span>)                │ (<span style=\"color: #00d7ff; text-decoration-color: #00d7ff\">None</span>, <span style=\"color: #00af00; text-decoration-color: #00af00\">64</span>)             │         <span style=\"color: #00af00; text-decoration-color: #00af00\">8,256</span> │\n",
              "├─────────────────────────────────┼────────────────────────┼───────────────┤\n",
              "│ dense_12 (<span style=\"color: #0087ff; text-decoration-color: #0087ff\">Dense</span>)                │ (<span style=\"color: #00d7ff; text-decoration-color: #00d7ff\">None</span>, <span style=\"color: #00af00; text-decoration-color: #00af00\">32</span>)             │         <span style=\"color: #00af00; text-decoration-color: #00af00\">2,080</span> │\n",
              "├─────────────────────────────────┼────────────────────────┼───────────────┤\n",
              "│ dense_13 (<span style=\"color: #0087ff; text-decoration-color: #0087ff\">Dense</span>)                │ (<span style=\"color: #00d7ff; text-decoration-color: #00d7ff\">None</span>, <span style=\"color: #00af00; text-decoration-color: #00af00\">16</span>)             │           <span style=\"color: #00af00; text-decoration-color: #00af00\">528</span> │\n",
              "├─────────────────────────────────┼────────────────────────┼───────────────┤\n",
              "│ dense_14 (<span style=\"color: #0087ff; text-decoration-color: #0087ff\">Dense</span>)                │ (<span style=\"color: #00d7ff; text-decoration-color: #00d7ff\">None</span>, <span style=\"color: #00af00; text-decoration-color: #00af00\">10</span>)             │           <span style=\"color: #00af00; text-decoration-color: #00af00\">170</span> │\n",
              "└─────────────────────────────────┴────────────────────────┴───────────────┘\n",
              "</pre>\n"
            ]
          },
          "metadata": {}
        },
        {
          "output_type": "display_data",
          "data": {
            "text/plain": [
              "\u001b[1m Total params: \u001b[0m\u001b[38;5;34m111,514\u001b[0m (435.60 KB)\n"
            ],
            "text/html": [
              "<pre style=\"white-space:pre;overflow-x:auto;line-height:normal;font-family:Menlo,'DejaVu Sans Mono',consolas,'Courier New',monospace\"><span style=\"font-weight: bold\"> Total params: </span><span style=\"color: #00af00; text-decoration-color: #00af00\">111,514</span> (435.60 KB)\n",
              "</pre>\n"
            ]
          },
          "metadata": {}
        },
        {
          "output_type": "display_data",
          "data": {
            "text/plain": [
              "\u001b[1m Trainable params: \u001b[0m\u001b[38;5;34m111,514\u001b[0m (435.60 KB)\n"
            ],
            "text/html": [
              "<pre style=\"white-space:pre;overflow-x:auto;line-height:normal;font-family:Menlo,'DejaVu Sans Mono',consolas,'Courier New',monospace\"><span style=\"font-weight: bold\"> Trainable params: </span><span style=\"color: #00af00; text-decoration-color: #00af00\">111,514</span> (435.60 KB)\n",
              "</pre>\n"
            ]
          },
          "metadata": {}
        },
        {
          "output_type": "display_data",
          "data": {
            "text/plain": [
              "\u001b[1m Non-trainable params: \u001b[0m\u001b[38;5;34m0\u001b[0m (0.00 B)\n"
            ],
            "text/html": [
              "<pre style=\"white-space:pre;overflow-x:auto;line-height:normal;font-family:Menlo,'DejaVu Sans Mono',consolas,'Courier New',monospace\"><span style=\"font-weight: bold\"> Non-trainable params: </span><span style=\"color: #00af00; text-decoration-color: #00af00\">0</span> (0.00 B)\n",
              "</pre>\n"
            ]
          },
          "metadata": {}
        }
      ]
    },
    {
      "cell_type": "code",
      "source": [
        "model.set_weights(new_weights)"
      ],
      "metadata": {
        "id": "WHAssOiclXKb"
      },
      "execution_count": 34,
      "outputs": []
    },
    {
      "cell_type": "code",
      "source": [
        "optimizer = SGD(learning_rate=0.01)\n",
        "loss_fn = CategoricalCrossentropy()"
      ],
      "metadata": {
        "id": "zZPUK5ZElaZJ"
      },
      "execution_count": 35,
      "outputs": []
    },
    {
      "cell_type": "code",
      "source": [
        "grad_log = []\n",
        "\n",
        "epochs = 2\n",
        "\n",
        "for epoch in range(epochs):\n",
        "    for step, (x_batch_train, y_batch_train) in enumerate(train_dataset):\n",
        "\n",
        "        with tf.GradientTape() as tape:\n",
        "            preds = model(x_batch_train)\n",
        "\n",
        "            loss_value = loss_fn(y_batch_train, preds)\n",
        "\n",
        "            grads = tape.gradient(loss_value, model.trainable_weights)\n",
        "            g_g = []\n",
        "\n",
        "            for g_s in grads:\n",
        "                if len(g_s.numpy().shape) == 2:\n",
        "                    g_g.append(g_s.numpy()[0, 0])\n",
        "\n",
        "        grad_log.append(g_g)\n",
        "\n",
        "        optimizer.apply_gradients(zip(grads, model.trainable_weights))\n",
        "\n",
        "        if step % 200 == 0:\n",
        "            print(f'Epoch {epoch + 1}/{epochs}', end='. ')\n",
        "            print(f'Step {step}. Train loss: {loss_value}')"
      ],
      "metadata": {
        "colab": {
          "base_uri": "https://localhost:8080/"
        },
        "id": "PAG_GfBilc5F",
        "outputId": "c72f3d0c-d960-49a5-a38c-c6ba36db6cc1"
      },
      "execution_count": 36,
      "outputs": [
        {
          "output_type": "stream",
          "name": "stdout",
          "text": [
            "Epoch 1/2. Step 0. Train loss: 1280.24609375\n",
            "Epoch 1/2. Step 200. Train loss: 1870.443359375\n",
            "Epoch 1/2. Step 400. Train loss: 1572.2493896484375\n",
            "Epoch 1/2. Step 600. Train loss: 1763.6461181640625\n",
            "Epoch 1/2. Step 800. Train loss: 1447.853271484375\n",
            "Epoch 2/2. Step 0. Train loss: 1542.637939453125\n",
            "Epoch 2/2. Step 200. Train loss: 1290.0576171875\n",
            "Epoch 2/2. Step 400. Train loss: 1281.2095947265625\n",
            "Epoch 2/2. Step 600. Train loss: 1168.430419921875\n",
            "Epoch 2/2. Step 800. Train loss: 890.1512451171875\n"
          ]
        }
      ]
    },
    {
      "cell_type": "code",
      "source": [
        "model.get_weights()[:2]"
      ],
      "metadata": {
        "colab": {
          "base_uri": "https://localhost:8080/"
        },
        "id": "SpQrvsBLlis4",
        "outputId": "bbd2a208-cc14-4dd0-95c1-2a24e176fa15"
      },
      "execution_count": 37,
      "outputs": [
        {
          "output_type": "execute_result",
          "data": {
            "text/plain": [
              "[array([[ 1.10855468e-01, -2.89544067e+01, -1.11606628e+02, ...,\n",
              "          2.70807247e+01, -1.09553963e+02,  2.40134293e+02],\n",
              "        [-2.79909744e+01,  2.03080078e+02, -8.19394684e+00, ...,\n",
              "         -3.82227927e-01,  1.05748680e+02, -9.83664932e+01],\n",
              "        [ 1.08536072e+02,  3.65864944e+01, -1.09298759e+02, ...,\n",
              "         -5.81144371e+01,  4.14889984e+01,  1.60726120e+02],\n",
              "        ...,\n",
              "        [ 1.35224182e+02,  2.94914799e+01,  1.18652184e+02, ...,\n",
              "          4.81741476e+00, -2.53905319e+02, -4.74941177e+01],\n",
              "        [-3.37093697e+01,  1.03940331e+02,  1.14126289e+02, ...,\n",
              "          1.74861115e+02,  4.74479866e+00,  1.33079357e+01],\n",
              "        [ 2.64444885e+01, -1.50783691e+02,  1.20068794e+02, ...,\n",
              "          7.30409470e+01,  9.83183594e+01,  1.32491974e+02]], dtype=float32),\n",
              " array([ -81.39623  ,   17.539917 ,  -72.668785 ,    2.2356956,\n",
              "          33.181274 ,  119.915825 ,   89.62817  ,  -21.945011 ,\n",
              "        -127.10773  ,   84.82333  , -114.00925  , -107.28623  ,\n",
              "        -105.227394 ,   72.34629  , -185.23276  ,   75.82127  ,\n",
              "          84.89399  ,  -48.0772   ,   95.85509  ,   42.351986 ,\n",
              "         -55.54747  ,  -85.327446 ,   36.231747 , -111.04444  ,\n",
              "         142.21878  ,  -27.96712  ,  -82.693214 , -157.61082  ,\n",
              "          43.035976 ,  -10.153697 ,  -11.75323  , -123.57437  ,\n",
              "        -152.12593  ,   68.998146 ,  126.63506  ,   28.599375 ,\n",
              "          39.884834 ,  115.92708  ,  144.53403  ,   -3.449321 ,\n",
              "        -141.29587  ,  160.0608   ,  -24.593626 ,  -12.272469 ,\n",
              "         -28.378496 ,  -30.395138 ,  -32.246723 , -109.36284  ,\n",
              "         105.92969  ,   90.871284 ,   -8.158327 , -104.07955  ,\n",
              "           2.5509229,   58.863476 ,   23.961063 , -209.25856  ,\n",
              "         175.1751   ,  107.30941  ,  -36.855186 ,  -85.826775 ,\n",
              "         100.4044   , -213.92224  ,  -94.55485  ,   79.15706  ,\n",
              "        -150.8383   ,  186.42526  ,   60.645195 ,   11.612469 ,\n",
              "         -20.27751  ,  162.37465  ,   55.11471  , -136.64284  ,\n",
              "         -61.330055 ,   28.820726 ,  159.97343  ,  148.26462  ,\n",
              "         -29.312792 ,  127.24373  , -162.9382   ,    8.875424 ,\n",
              "        -105.87448  ,  -71.96845  , -152.99469  ,  -88.84712  ,\n",
              "          -6.833829 ,  115.30349  , -147.22337  ,   23.91302  ,\n",
              "        -163.3704   ,   26.936224 ,   52.587135 , -184.51111  ,\n",
              "          28.710106 ,   58.37481  ,   10.116421 ,  -53.908672 ,\n",
              "        -112.12747  , -127.8494   , -260.9589   ,  -86.06942  ,\n",
              "         -55.096497 ,  -78.455475 , -121.97097  ,   78.840065 ,\n",
              "         -61.227093 , -100.67971  ,  -21.41796  ,  -51.679893 ,\n",
              "         -57.308086 ,  -33.136093 ,  -64.72705  , -136.82013  ,\n",
              "        -114.87947  ,   70.16235  ,  -27.950813 , -139.28178  ,\n",
              "          53.165443 ,  -24.113924 ,  -44.250675 ,  -89.93796  ,\n",
              "         -21.553434 ,  -39.026154 ,   11.854126 ,  -87.78572  ,\n",
              "          78.29342  ,  137.9324   ,   36.78383  , -225.8375   ],\n",
              "       dtype=float32)]"
            ]
          },
          "metadata": {},
          "execution_count": 37
        }
      ]
    }
  ]
}